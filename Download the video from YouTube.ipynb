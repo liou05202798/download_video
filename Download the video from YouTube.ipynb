{
 "cells": [
  {
   "cell_type": "markdown",
   "metadata": {},
   "source": [
    "# This Project is for Learning Only"
   ]
  },
  {
   "cell_type": "markdown",
   "metadata": {},
   "source": [
    "# Download the videos from YouTube\n",
    "To download the video from YouTube, we need to install \"pytube\" through pip or other methods.  \n",
    "In order to download the package, you can use the command below:\n",
    "\n",
    "\"pip install pytube\" (reference: https://pypi.org/project/pytube/)\n",
    "\n",
    "After downloading the video, we can rename the file to the specific one."
   ]
  },
  {
   "cell_type": "code",
   "execution_count": null,
   "metadata": {},
   "outputs": [],
   "source": [
    "# download the file to the current folder\n",
    "# reference: https://pypi.org/project/pytube/\n",
    "from pytube import YouTube\n",
    "import os\n",
    "\n",
    "# please enter the address of the video\n",
    "yt = YouTube('https://www.youtube.com/watch?v=qSBFGHBrH18&list=PLS0SUwlYe8cyCg7vJoG33pn0T-nE47Ulz')\n",
    "\n",
    "# start to download the file\n",
    "# download the video with highest resolution automatically\n",
    "yt.streams.first().download()\n",
    "\n",
    "# rename the file we download\n",
    "os.rename(yt.streams.first().default_filename, 'translate_file.mp4')"
   ]
  },
  {
   "cell_type": "markdown",
   "metadata": {},
   "source": [
    "# Move the File to a Specific Folder to Process\n",
    "The steps here is shown below:\n",
    "1. Use \"shutil\" package to move the file to the specific folder\n",
    "2. Use \"Pydub\" to transform the downloaded mp4 file into \"WAV\" type\n",
    "3. Specify the channel number, sampling rate, and sampling width we want\n",
    "4. Check whether there is file in the \"fail\" list, if so, transform these files directly through terminate"
   ]
  },
  {
   "cell_type": "code",
   "execution_count": null,
   "metadata": {},
   "outputs": [],
   "source": [
    "# Python program to explain shutil.move() method  \n",
    "# reference: https://www.geeksforgeeks.org/python-shutil-move-method/\n",
    "  \n",
    "# importing shutil module  \n",
    "import shutil  \n",
    "  \n",
    "# specify the path we want to move the file to \n",
    "path = '/Users/andy/Desktop/Special_Project_second_semester'\n",
    "  \n",
    "# list the file names and directory\n",
    "# before moving the file\n",
    "print(\"Before moving file:\")  \n",
    "print(os.listdir(path))  \n",
    "  \n",
    "# Source Path\n",
    "source = '/Users/andy/Desktop/Special_Project_second_semester/translate_file.mp4'\n",
    "  \n",
    "# Destination path  \n",
    "destination = '/Users/andy/Desktop/Special_Project_second_semester/video'\n",
    "  \n",
    "# Move the content of source to destination  \n",
    "dest = shutil.move(source, destination)  \n",
    "  \n",
    "# list the file names and directory\n",
    "# after moving the file  \n",
    "print(\"After moving file:\")  \n",
    "print(os.listdir(path))  \n",
    "  \n",
    "# show the path of moved \n",
    "print(\"Destination path:\", dest)"
   ]
  },
  {
   "cell_type": "code",
   "execution_count": null,
   "metadata": {},
   "outputs": [],
   "source": [
    "# find the target file and do the translation\n",
    "# from mp4 to wav\n",
    "# Process the music file\n",
    "from pydub import AudioSegment\n",
    "import sys\n",
    "import os\n",
    "\n",
    "# Output the \"wav\" type files\n",
    "# Use \"fail\" list to collect the files without being transformed into \"wav\" type\n",
    "# In this case, we need to transform these files directly in \"terminator\"\n",
    "\n",
    "# reference: https://github.com/jiaaro/pydub/blob/master/API.markdown\n",
    "\n",
    "# please specify the folder name where the files needed to be translated are placed at\n",
    "DATASET_PATH = 'video'\n",
    "fail=[]\n",
    "\n",
    "# specify the name after doing transformation\n",
    "for subject in os.listdir(DATASET_PATH):\n",
    "    \n",
    "    if subject == \".DS_Store\":\n",
    "        continue\n",
    "        \n",
    "    print(subject)\n",
    "    print(\"\\n\")\n",
    "    \n",
    "    [name, style] = subject.split(\".\")\n",
    "    name = name + \".wav\"\n",
    "    path = DATASET_PATH + \"/\" + subject\n",
    "    \n",
    "    try:\n",
    "\n",
    "        sound1 = AudioSegment.from_file(path, style.lower())\n",
    "        \n",
    "        print(\"before\")\n",
    "        print(\"channel: \"+str(sound1.channels))\n",
    "        print(\"precision: \"+str(sound1.sample_width))\n",
    "        print(\"fs: \"+str(sound1.frame_rate))\n",
    "        print(\"\\n\")\n",
    "        \n",
    "        sound2=sound1.set_frame_rate(16000)\n",
    "        sound2=sound2.set_channels(1)\n",
    "        sound2=sound2.set_sample_width(2)\n",
    "        \n",
    "        # output the WAV file\n",
    "        sound2.export(name,format='wav',)\n",
    "        print(\"after\")\n",
    "        print(\"channel: \"+str(sound2.channels))\n",
    "        print(\"precision: \"+str(sound2.sample_width))\n",
    "        print(\"fs: \"+str(sound2.frame_rate))\n",
    "        print(\"*******************************\")\n",
    "        print(\"\\n\")\n",
    "        \n",
    "    except:\n",
    "        fail.append(subject)"
   ]
  },
  {
   "cell_type": "code",
   "execution_count": null,
   "metadata": {},
   "outputs": [],
   "source": [
    "# check whether there is file fail to be transformed\n",
    "fail"
   ]
  }
 ],
 "metadata": {
  "kernelspec": {
   "display_name": "Python 3",
   "language": "python",
   "name": "python3"
  },
  "language_info": {
   "codemirror_mode": {
    "name": "ipython",
    "version": 3
   },
   "file_extension": ".py",
   "mimetype": "text/x-python",
   "name": "python",
   "nbconvert_exporter": "python",
   "pygments_lexer": "ipython3",
   "version": "3.7.6"
  }
 },
 "nbformat": 4,
 "nbformat_minor": 4
}
